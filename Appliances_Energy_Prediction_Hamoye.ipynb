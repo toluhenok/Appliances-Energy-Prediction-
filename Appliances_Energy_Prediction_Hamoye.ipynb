{
  "nbformat": 4,
  "nbformat_minor": 0,
  "metadata": {
    "colab": {
      "private_outputs": true,
      "provenance": []
    },
    "kernelspec": {
      "name": "python3",
      "display_name": "Python 3"
    },
    "language_info": {
      "name": "python"
    }
  },
  "cells": [
    {
      "cell_type": "code",
      "execution_count": null,
      "metadata": {
        "id": "0j-dbgxQs0ZB"
      },
      "outputs": [],
      "source": [
        "from google.colab import drive\n",
        "drive.mount('/content/drive')"
      ]
    },
    {
      "cell_type": "code",
      "source": [
        "#import libraries\n",
        "import pandas as pd\n",
        "import numpy as np\n",
        "import seaborn as sns\n",
        "import matplotlib.pyplot as plt\n",
        "%matplotlib inline\n",
        "\n"
      ],
      "metadata": {
        "id": "qtqzn3Zytbvx"
      },
      "execution_count": null,
      "outputs": []
    },
    {
      "cell_type": "code",
      "source": [
        "file = '/content/drive/MyDrive/hamoye/energydata_complete.csv'\n",
        "energy_file = pd.read_csv(file)"
      ],
      "metadata": {
        "id": "IGmc_PoMtem0"
      },
      "execution_count": null,
      "outputs": []
    },
    {
      "cell_type": "code",
      "source": [
        "energy_file.head()"
      ],
      "metadata": {
        "id": "Pbq8uDrRuoQI"
      },
      "execution_count": null,
      "outputs": []
    },
    {
      "cell_type": "code",
      "source": [
        "linear_reg = energy_file[['T2', 'T6']].sample(15, random_state = 2)"
      ],
      "metadata": {
        "id": "nNmCEzS6uraf"
      },
      "execution_count": null,
      "outputs": []
    },
    {
      "cell_type": "code",
      "source": [
        "sns.regplot(x='T2', y='T6', data = linear_reg)"
      ],
      "metadata": {
        "id": "CSrYL8KvwV3g"
      },
      "execution_count": null,
      "outputs": []
    },
    {
      "cell_type": "code",
      "source": [
        "energy_df = energy_file.drop(['date', 'lights'], axis=1)"
      ],
      "metadata": {
        "id": "rUgh9RxxyY7D"
      },
      "execution_count": null,
      "outputs": []
    },
    {
      "cell_type": "code",
      "source": [
        "from sklearn.preprocessing import MinMaxScaler"
      ],
      "metadata": {
        "id": "cWnoy_0Zyk54"
      },
      "execution_count": null,
      "outputs": []
    },
    {
      "cell_type": "code",
      "source": [
        "scaler = MinMaxScaler()\n",
        "normalised_df = pd.DataFrame(scaler.fit_transform(energy_df), columns=energy_df.columns)\n",
        "appliances_target = normalised_df['Appliances']"
      ],
      "metadata": {
        "id": "xuVZ5WhxzrAD"
      },
      "execution_count": null,
      "outputs": []
    },
    {
      "cell_type": "code",
      "source": [
        "#split into train and test set\n",
        "from sklearn.model_selection import train_test_split\n",
        "x_train, x_test, y_train, y_test = train_test_split(energy_df, appliances_target, test_size=0.3, random_state=42)"
      ],
      "metadata": {
        "id": "rZo8GuGD4Aks"
      },
      "execution_count": null,
      "outputs": []
    },
    {
      "cell_type": "code",
      "source": [
        "from sklearn.linear_model import LinearRegression #import linear regressiom\n",
        "linear_model = LinearRegression()\n",
        "linear_model.fit(x_train, y_train) #fit the model to the training dataset\n",
        "pred_values = linear_model.predict(x_test) #predictions from the model"
      ],
      "metadata": {
        "id": "cSgsao1BEhfX"
      },
      "execution_count": null,
      "outputs": []
    },
    {
      "cell_type": "code",
      "source": [
        "#MAE\n",
        "from sklearn.metrics import mean_absolute_error\n",
        "mae = mean_absolute_error(y_test, pred_values)\n",
        "round(mae, 2)"
      ],
      "metadata": {
        "id": "nkewCTNgFhik"
      },
      "execution_count": null,
      "outputs": []
    },
    {
      "cell_type": "code",
      "source": [
        "#RSS\n",
        "rss = np.sum(np.square(y_test - pred_values))\n",
        "round(rss, 2) "
      ],
      "metadata": {
        "id": "vuBH4q5OHmJ1"
      },
      "execution_count": null,
      "outputs": []
    },
    {
      "cell_type": "code",
      "source": [
        "#RMSE\n",
        "from sklearn.metrics import mean_squared_error\n",
        "rmse = np.sqrt(mean_squared_error(y_test, pred_values))\n",
        "round(rmse, 3)"
      ],
      "metadata": {
        "id": "gq1Y8w74IPms"
      },
      "execution_count": null,
      "outputs": []
    },
    {
      "cell_type": "code",
      "source": [
        "#RSquared\n",
        "from sklearn.metrics import r2_score\n",
        "r2_score = r2_score(y_test, pred_values)\n",
        "round(r2_score, 2)"
      ],
      "metadata": {
        "id": "632YYPGFIU0q"
      },
      "execution_count": null,
      "outputs": []
    },
    {
      "cell_type": "code",
      "source": [
        "#Ridge regression\n",
        "from sklearn.linear_model import Ridge\n",
        "ridge_reg = Ridge(alpha=0.4)\n",
        "ridge_reg.fit(x_train, y_train)\n"
      ],
      "metadata": {
        "id": "_Ys_Pls1OT9B"
      },
      "execution_count": null,
      "outputs": []
    },
    {
      "cell_type": "code",
      "source": [
        "#Lasso regression\n",
        "from sklearn.linear_model import Lasso\n",
        "lasso_reg = Lasso(alpha=0.001)\n",
        "lasso_reg.fit(x_train, y_train)"
      ],
      "metadata": {
        "id": "6dCrvnnaO7xN"
      },
      "execution_count": null,
      "outputs": []
    },
    {
      "cell_type": "code",
      "source": [
        "#comparing the effects of regularisation\n",
        "def get_weights_df(model, feat, col_name):\n",
        "  weights = pd.Series(model.coef_, feat.columns).sort_values()\n",
        "  weights_df = pd.DataFrame(weights).reset_index()\n",
        "  weights_df.columns = ['Features', col_name]\n",
        "  weights_df[col_name].round(3)\n",
        "  return weights_df\n",
        "  \n",
        "linear_model_weights = get_weights_df(model, x_train, 'Linear_Model_Weight')\n",
        "ridge_weights_df = get_weights_df(ridge_reg, x_train, 'Ridge_Weight')\n",
        "lasso_weights_df = get_weights_df(lasso_reg, x_train, 'Lasso_weight')\n",
        "final_weights = pd.merge(linear_model_weights, ridge_weights_df, on='Features')\n",
        "final_weights = pd.merge(final_weights, lasso_weights_df, on='Features')\n"
      ],
      "metadata": {
        "id": "AkJ9fm7kO_CN"
      },
      "execution_count": null,
      "outputs": []
    }
  ]
}